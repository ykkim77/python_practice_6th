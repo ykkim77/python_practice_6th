{
  "cells": [
    {
      "cell_type": "markdown",
      "metadata": {
        "colab_type": "text",
        "id": "view-in-github"
      },
      "source": [
        "<a href=\"https://colab.research.google.com/github/ykkim77/python-13th-week/blob/main/python_13th_week.ipynb\" target=\"_parent\"><img src=\"https://colab.research.google.com/assets/colab-badge.svg\" alt=\"Open In Colab\"/></a>"
      ]
    },
    {
      "cell_type": "markdown",
      "metadata": {
        "id": "_17Zhg4BXgzQ"
      },
      "source": [
        "# 스택"
      ]
    },
    {
      "cell_type": "markdown",
      "metadata": {
        "id": "Q_jsQatEZHj0"
      },
      "source": [
        "## 스택 핵심 코드 구현"
      ]
    },
    {
      "cell_type": "markdown",
      "metadata": {},
      "source": [
        "### 스택 정의"
      ]
    },
    {
      "cell_type": "code",
      "execution_count": 1,
      "metadata": {
        "id": "gJHLDQa3Xat-"
      },
      "outputs": [],
      "source": [
        "stack = [None, None, None]\n",
        "top = -1"
      ]
    },
    {
      "cell_type": "markdown",
      "metadata": {
        "id": "3KOQIqLRZaed"
      },
      "source": [
        "- Push 구현"
      ]
    },
    {
      "cell_type": "code",
      "execution_count": 2,
      "metadata": {
        "id": "lDjoQ5CQZcKM"
      },
      "outputs": [],
      "source": [
        "top += 1\n",
        "stack[top] = \"cuk.edu\"\n",
        "top += 1\n",
        "stack[top] = \"naver.com\"\n",
        "top += 1\n",
        "stack[top] = \"google.com\""
      ]
    },
    {
      "cell_type": "markdown",
      "metadata": {},
      "source": [
        "- 스택에 있는 데이터 알아보기"
      ]
    },
    {
      "cell_type": "code",
      "execution_count": 3,
      "metadata": {},
      "outputs": [
        {
          "name": "stdout",
          "output_type": "stream",
          "text": [
            "----- 스택 상태 -----\n",
            "google.com\n",
            "naver.com\n",
            "cuk.edu\n"
          ]
        }
      ],
      "source": [
        "print(\"----- 스택 상태 -----\")\n",
        "for i in range(len(stack)-1, -1, -1) :\n",
        "\tprint(stack[i])\n"
      ]
    },
    {
      "cell_type": "markdown",
      "metadata": {},
      "source": [
        "- pop 구현"
      ]
    },
    {
      "cell_type": "code",
      "execution_count": 4,
      "metadata": {},
      "outputs": [
        {
          "name": "stdout",
          "output_type": "stream",
          "text": [
            "-------------------\n",
            "pop --> google.com\n"
          ]
        }
      ],
      "source": [
        "print(\"-------------------\")\n",
        "data = stack[top]\n",
        "stack[top] = None\n",
        "top -= 1\n",
        "print(\"pop -->\", data)"
      ]
    },
    {
      "cell_type": "code",
      "execution_count": 5,
      "metadata": {},
      "outputs": [
        {
          "name": "stdout",
          "output_type": "stream",
          "text": [
            "-------------------\n",
            "pop --> naver.com\n"
          ]
        }
      ],
      "source": [
        "print(\"-------------------\")\n",
        "data = stack[top]\n",
        "stack[top] = None\n",
        "top -= 1\n",
        "print(\"pop -->\", data)"
      ]
    },
    {
      "cell_type": "code",
      "execution_count": 6,
      "metadata": {},
      "outputs": [
        {
          "name": "stdout",
          "output_type": "stream",
          "text": [
            "-------------------\n",
            "pop --> cuk.edu\n"
          ]
        }
      ],
      "source": [
        "print(\"-------------------\")\n",
        "data = stack[top]\n",
        "stack[top] = None\n",
        "top -= 1\n",
        "print(\"pop -->\", data)"
      ]
    },
    {
      "cell_type": "code",
      "execution_count": 7,
      "metadata": {},
      "outputs": [
        {
          "name": "stdout",
          "output_type": "stream",
          "text": [
            "--- 스택 상태-----\n",
            "None\n",
            "None\n",
            "None\n"
          ]
        }
      ],
      "source": [
        "print(\"--- 스택 상태-----\")\n",
        "for i in range(len(stack)-1, -1, -1) :\n",
        "\tprint(stack[i])"
      ]
    },
    {
      "cell_type": "markdown",
      "metadata": {},
      "source": [
        "- 스택 초기화"
      ]
    },
    {
      "cell_type": "code",
      "execution_count": 10,
      "metadata": {},
      "outputs": [],
      "source": [
        "SIZE = 5\n",
        "stack = [ None for _ in range(SIZE) ]\n",
        "top = -1"
      ]
    },
    {
      "cell_type": "markdown",
      "metadata": {},
      "source": [
        "## 스택 함수 구현"
      ]
    },
    {
      "cell_type": "markdown",
      "metadata": {},
      "source": [
        "### Push"
      ]
    },
    {
      "cell_type": "markdown",
      "metadata": {},
      "source": [
        "- 스택이 꽉 찼는지 확인하는 함수"
      ]
    },
    {
      "cell_type": "code",
      "execution_count": 20,
      "metadata": {},
      "outputs": [],
      "source": [
        "def isStackFull() :\n",
        "\tglobal SIZE, stack, top\n",
        "\tif (top >= SIZE-1) :\n",
        "\t\treturn True\n",
        "\telse :\n",
        "\t\treturn False"
      ]
    },
    {
      "cell_type": "markdown",
      "metadata": {},
      "source": [
        "- 데이터를 삽입하는 함수"
      ]
    },
    {
      "cell_type": "code",
      "execution_count": 12,
      "metadata": {},
      "outputs": [],
      "source": [
        "def push(data) :\n",
        "\tglobal SIZE, stack, top\n",
        "\tif (isStackFull()) :\n",
        "\t\tprint(\"스택이 꽉 찼습니다.\")\n",
        "\t\treturn\n",
        "\ttop += 1\n",
        "\tstack[top] = data"
      ]
    },
    {
      "cell_type": "markdown",
      "metadata": {},
      "source": [
        "### Pop"
      ]
    },
    {
      "cell_type": "markdown",
      "metadata": {},
      "source": [
        "- 스택이 비었는지 확인하는 함수"
      ]
    },
    {
      "cell_type": "code",
      "execution_count": 13,
      "metadata": {},
      "outputs": [],
      "source": [
        "def isStackEmpty() :\n",
        "\tglobal SIZE, stack, top\n",
        "\tif (top == -1) :\n",
        "\t\treturn True\n",
        "\telse :\n",
        "\t\treturn False"
      ]
    },
    {
      "cell_type": "markdown",
      "metadata": {},
      "source": [
        "- 스택에서 데이터를 추출하는 함수"
      ]
    },
    {
      "cell_type": "code",
      "execution_count": 17,
      "metadata": {},
      "outputs": [],
      "source": [
        "def pop() :\n",
        "\tglobal SIZE, stack, top\n",
        "\tif (isStackEmpty()) :\n",
        "\t\tprint(\"스택이 비었습니다.\")\n",
        "\t\treturn None\n",
        "\tdata = stack[top]\n",
        "\tstack[top] = None\n",
        "\ttop -= 1\n",
        "\treturn data"
      ]
    },
    {
      "cell_type": "markdown",
      "metadata": {},
      "source": [
        "- top 위치의 데이터를 확인만 하고 스택에 그대로 두는peek 함수"
      ]
    },
    {
      "cell_type": "code",
      "execution_count": 18,
      "metadata": {},
      "outputs": [],
      "source": [
        "def peek() :\n",
        "\tglobal SIZE, stack, top\n",
        "\tif (isStackEmpty()) :\n",
        "\t\tprint(\"스택이 비었습니다.\")\n",
        "\t\treturn None\n",
        "\treturn stack[top]"
      ]
    },
    {
      "cell_type": "markdown",
      "metadata": {},
      "source": [
        "- 함수 사용"
      ]
    },
    {
      "cell_type": "code",
      "execution_count": 31,
      "metadata": {},
      "outputs": [
        {
          "name": "stdout",
          "output_type": "stream",
          "text": [
            "스택이 비었습니다.\n",
            "None\n"
          ]
        }
      ],
      "source": [
        "print(pop())"
      ]
    }
  ],
  "metadata": {
    "colab": {
      "authorship_tag": "ABX9TyNfYEYHL4wCNbBmxfR+rFfd",
      "collapsed_sections": [],
      "include_colab_link": true,
      "name": "python-13th-week.ipynb",
      "provenance": []
    },
    "kernelspec": {
      "display_name": "Python 3",
      "name": "python3"
    },
    "language_info": {
      "codemirror_mode": {
        "name": "ipython",
        "version": 3
      },
      "file_extension": ".py",
      "mimetype": "text/x-python",
      "name": "python",
      "nbconvert_exporter": "python",
      "pygments_lexer": "ipython3",
      "version": "3.9.4"
    }
  },
  "nbformat": 4,
  "nbformat_minor": 0
}
