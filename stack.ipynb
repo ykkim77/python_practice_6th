{
  "cells": [
    {
      "cell_type": "markdown",
      "metadata": {
        "colab_type": "text",
        "id": "view-in-github"
      },
      "source": [
        "<a href=\"https://colab.research.google.com/github/ykkim77/python-13th-week/blob/main/python_13th_week.ipynb\" target=\"_parent\"><img src=\"https://colab.research.google.com/assets/colab-badge.svg\" alt=\"Open In Colab\"/></a>"
      ]
    },
    {
      "cell_type": "markdown",
      "metadata": {
        "id": "_17Zhg4BXgzQ"
      },
      "source": [
        "# 원형 연결 리스트"
      ]
    },
    {
      "cell_type": "markdown",
      "metadata": {
        "id": "Q_jsQatEZHj0"
      },
      "source": [
        "## 원형 연결 리스트 핵심 코드 구현"
      ]
    },
    {
      "cell_type": "markdown",
      "metadata": {},
      "source": [
        "### 원형 연결리스트 정의"
      ]
    },
    {
      "cell_type": "code",
      "execution_count": null,
      "metadata": {
        "id": "gJHLDQa3Xat-"
      },
      "outputs": [],
      "source": [
        "class Node() :\n",
        "\tdef __init__ (self) :\n",
        "\t\tself.data = None\n",
        "\t\tself.link = None"
      ]
    },
    {
      "cell_type": "markdown",
      "metadata": {
        "id": "3KOQIqLRZaed"
      },
      "source": [
        "- 첫번째 노드 생성"
      ]
    },
    {
      "cell_type": "code",
      "execution_count": null,
      "metadata": {
        "id": "lDjoQ5CQZcKM"
      },
      "outputs": [],
      "source": [
        "node1 = Node()\n",
        "node1.data = \"서울\"\n",
        "head = node1\n",
        "\n",
        "node1.link = node1"
      ]
    },
    {
      "cell_type": "code",
      "execution_count": null,
      "metadata": {},
      "outputs": [],
      "source": [
        "print(node1.data)\n",
        "print(node1.link.data)\n",
        "print(node1.link.link.data)"
      ]
    },
    {
      "cell_type": "markdown",
      "metadata": {},
      "source": [
        "- 두번째 노드 생성"
      ]
    },
    {
      "cell_type": "code",
      "execution_count": null,
      "metadata": {},
      "outputs": [],
      "source": [
        "node2 = Node()\n",
        "node2.data = \"대구\"\n",
        "node1.link = node2\n",
        "\n",
        "node2.link = node1"
      ]
    },
    {
      "cell_type": "code",
      "execution_count": null,
      "metadata": {},
      "outputs": [],
      "source": [
        "print(node1.data)\n",
        "print(node1.link.data)\n",
        "print(node1.link.link.data)\n",
        "print(node1.link.link.link.data)"
      ]
    },
    {
      "cell_type": "markdown",
      "metadata": {},
      "source": [
        "- 세번째 노드 생성"
      ]
    },
    {
      "cell_type": "code",
      "execution_count": null,
      "metadata": {},
      "outputs": [],
      "source": [
        "node3 = Node()\n",
        "node3.data = \"부산\"\n",
        "node2.link = node3\n",
        "\n",
        "node3.link = node1"
      ]
    },
    {
      "cell_type": "markdown",
      "metadata": {},
      "source": [
        "- 데이터가 3개인 원형 연결 리스트 출력"
      ]
    },
    {
      "cell_type": "code",
      "execution_count": null,
      "metadata": {},
      "outputs": [],
      "source": [
        "print(node1.data, end = ' ')\n",
        "print(node1.link.data, end = ' ')\n",
        "print(node1.link.link.data, end = ' ')\n",
        "print(node1.link.link.link.data, end = ' ')"
      ]
    },
    {
      "cell_type": "markdown",
      "metadata": {},
      "source": [
        "- 원형 연결 리스트 출력 함수"
      ]
    },
    {
      "cell_type": "code",
      "execution_count": null,
      "metadata": {},
      "outputs": [],
      "source": [
        "current = node1    # current 노드 지정\n",
        "print(current.data, end = ' ')\n",
        "while current.link != node1:     # current의 링크가 node1을 가리킬때 까지 반복\n",
        "    current = current.link             # 현재 노드의 다음노드가 current로 지정\n",
        "    print(current.data, end= ' ')  # current의 데이터 출력\n"
      ]
    },
    {
      "cell_type": "code",
      "execution_count": null,
      "metadata": {},
      "outputs": [],
      "source": [
        "newNode = Node()\n",
        "newNode.link = head\n",
        "newNode.data = '파주'"
      ]
    },
    {
      "cell_type": "markdown",
      "metadata": {},
      "source": [
        "- 첫번째 자리에 데이터 삽입"
      ]
    },
    {
      "cell_type": "code",
      "execution_count": null,
      "metadata": {},
      "outputs": [],
      "source": [
        "last = head    # 마지막 노드를 첫 번째 노드로 우선 지정\n",
        "\n",
        "print(last.data, end = ' ')\n",
        "while last.link != head:     # 마지막 노드를 찾을때 까지 반복\n",
        "    last = last.link             # last 노드의 링크(다음노드)가 현재의 last가 되도록 함\n",
        "last.link = newNode\n",
        "head = newNode  \n",
        "print(head.data, end= ' ')  # 새롭게 첫 데이터로 추가한 노드를 출력해 테스트해 봄"
      ]
    },
    {
      "cell_type": "markdown",
      "metadata": {},
      "source": [
        "- 원형 리스트 출력"
      ]
    },
    {
      "cell_type": "code",
      "execution_count": null,
      "metadata": {},
      "outputs": [],
      "source": [
        "current = head    # current 노드 지정\n",
        "print(current.data, end = ' ')\n",
        "while current.link != head:     # current의 링크가 없을때 까지 반복\n",
        "    current = current.link             # 현재 노드의 다음노드가 current로 지정\n",
        "    print(current.data, end= ' ')  # current의 데이터 출력\n"
      ]
    },
    {
      "cell_type": "markdown",
      "metadata": {},
      "source": [
        "- 중간에 데이터 삽입"
      ]
    },
    {
      "cell_type": "code",
      "execution_count": null,
      "metadata": {},
      "outputs": [],
      "source": [
        "current = head\n",
        "\n",
        "while current.link != head: \n",
        "    pre = current      # pre 노드를 한 칸씩 이동\n",
        "    current = current.link    # current 노드를 한 칸씩 이동\n",
        "    if current.data == '부산' :    # current 노드가 부산이라면~\n",
        "        node = Node()                  # 새로운 노드 생성\n",
        "        node.data = '포항'            # 새로운 노드의 데이터에 ‘포항’ 입력\n",
        "        node.link = current     # 새로운 노드의 링크는 current 노드를 가리킴\n",
        "        pre.link = node            # pre 노드의 링크는 새로운 노드를 가리킴   \n"
      ]
    },
    {
      "cell_type": "markdown",
      "metadata": {},
      "source": [
        "- 원형 리스트 출력"
      ]
    },
    {
      "cell_type": "code",
      "execution_count": null,
      "metadata": {},
      "outputs": [],
      "source": [
        "current = head    # current 노드 지정\n",
        "print(current.data, end = ' ')\n",
        "while current.link != head:     # current의 링크가 없을때 까지 반복\n",
        "    current = current.link             # 현재 노드의 다음노드가 current로 지정\n",
        "    print(current.data, end= ' ')  # current의 데이터 출력"
      ]
    },
    {
      "cell_type": "markdown",
      "metadata": {},
      "source": [
        "- 마지막 자리에 데이터 삽입"
      ]
    },
    {
      "cell_type": "code",
      "execution_count": null,
      "metadata": {},
      "outputs": [],
      "source": [
        "current = head\n",
        "while current.link != head:     # current의 링크가 없을때 까지 반복\n",
        "    current = current.link             # 현재 노드의 다음노드가 current로 지정\n",
        "\n",
        "newNode = Node()\n",
        "newNode.data = \"제주\"\n",
        "current.link = newNode\n",
        "newNode.link = head"
      ]
    },
    {
      "cell_type": "code",
      "execution_count": null,
      "metadata": {},
      "outputs": [],
      "source": [
        "current = head    # current 노드 지정\n",
        "print(current.data, end = ' ')\n",
        "while current.link != head:     # current의 링크가 없을때 까지 반복\n",
        "    current = current.link             # 현재 노드의 다음노드가 current로 지정\n",
        "    print(current.data, end= ' ')  # current의 데이터 출력"
      ]
    },
    {
      "cell_type": "markdown",
      "metadata": {},
      "source": [
        "- 데이터 삭제 : 첫번째 노드 삭제"
      ]
    },
    {
      "cell_type": "code",
      "execution_count": null,
      "metadata": {},
      "outputs": [],
      "source": [
        "current = head\n",
        "head = head.link"
      ]
    },
    {
      "cell_type": "code",
      "execution_count": null,
      "metadata": {},
      "outputs": [],
      "source": [
        "\n",
        "last = head    # current 노드 지정\n",
        "\n",
        "while last.link != current:     # current의 링크가 없을때 까지 반복\n",
        "    last = last.link             # 현재 노드의 다음노드가 current로 지정\n",
        "\n",
        "last.link = head\n",
        "del(current)"
      ]
    },
    {
      "cell_type": "markdown",
      "metadata": {},
      "source": [
        "- 원형 리스트 출력"
      ]
    },
    {
      "cell_type": "code",
      "execution_count": null,
      "metadata": {},
      "outputs": [],
      "source": [
        "current = head    # current 노드 지정\n",
        "print(current.data, end = ' ')\n",
        "while current.link != head:     # current의 링크가 없을때 까지 반복\n",
        "    current = current.link             # 현재 노드의 다음노드가 current로 지정\n",
        "    print(current.data, end= ' ')  # current의 데이터 출력"
      ]
    },
    {
      "cell_type": "markdown",
      "metadata": {},
      "source": [
        "- 첫번째 노드 외 삭제"
      ]
    },
    {
      "cell_type": "code",
      "execution_count": null,
      "metadata": {},
      "outputs": [],
      "source": [
        "current = head\n",
        "\n",
        "while current.link != head:\n",
        "    pre = current\n",
        "    current = current.link\n",
        "    if current.data == \"대구\":\n",
        "        pre.link = current.link\n",
        "        del(current)"
      ]
    },
    {
      "cell_type": "markdown",
      "metadata": {},
      "source": [
        "- 원형 리스트 출력"
      ]
    },
    {
      "cell_type": "code",
      "execution_count": null,
      "metadata": {},
      "outputs": [],
      "source": [
        "current = head    # current 노드 지정\n",
        "print(current.data, end = ' ')\n",
        "while current.link != head:     # current의 링크가 없을때 까지 반복\n",
        "    current = current.link             # 현재 노드의 다음노드가 current로 지정\n",
        "    print(current.data, end= ' ')  # current의 데이터 출력"
      ]
    },
    {
      "cell_type": "markdown",
      "metadata": {},
      "source": [
        "- 데이터 검색 구현"
      ]
    },
    {
      "cell_type": "code",
      "execution_count": null,
      "metadata": {},
      "outputs": [],
      "source": [
        "current = head\n",
        "if current.data == '부산':\n",
        "    print(current.data)\n",
        "while current.link != head:\n",
        "    current = current.link\n",
        "    if current.data == '부산':\n",
        "        print(current.data)\n"
      ]
    },
    {
      "cell_type": "code",
      "execution_count": null,
      "metadata": {},
      "outputs": [],
      "source": [
        "del(head)\n",
        "del(current)\n",
        "del(pre)"
      ]
    },
    {
      "cell_type": "markdown",
      "metadata": {},
      "source": [
        "- 연결 리스트를 함수로 구현하기"
      ]
    },
    {
      "cell_type": "code",
      "execution_count": null,
      "metadata": {},
      "outputs": [],
      "source": [
        "class Node() :\n",
        "\tdef __init__ (self) :\n",
        "\t\tself.data = None\n",
        "\t\tself.link = None\n",
        "\n",
        "def printNodes(start):\n",
        "\tcurrent = start\n",
        "\tif current.link == None :\n",
        "\t\treturn\n",
        "\tprint(current.data, end=' ')\n",
        "\twhile current.link != start:\n",
        "\t\tcurrent = current.link\n",
        "\t\tprint(current.data, end=' ')\n",
        "\tprint()\n",
        "\n",
        "def insertNode(findData, insertData) :\n",
        "\tglobal memory, head, current, pre\n",
        "\n",
        "\tif head.data == findData :\t\t# 첫 번째 노드 삽입\n",
        "\t\tnode = Node()\n",
        "\t\tnode.data = insertData\n",
        "\t\tnode.link = head\n",
        "\t\tlast = head\t\t# 마지막 노드를 첫 번째 노드로 우선 지정\n",
        "\t\twhile last.link != head :\t# 마지막 노드를 찾으면 반복 종료\n",
        "\t\t\tlast = last.link\t# last를 다음 노드로 변경\n",
        "\t\tlast.link = node\t\t# 마지막 노드의 링크에 새 노드 지정\n",
        "\t\thead = node\n",
        "\t\treturn\n",
        "\n",
        "\tcurrent = head\n",
        "\twhile current.link != head :\t\t# 중간 노드 삽입\n",
        "\t\tpre = current\n",
        "\t\tcurrent = current.link\n",
        "\t\tif current.data == findData :\n",
        "\t\t\tnode = Node()\n",
        "\t\t\tnode.data = insertData\n",
        "\t\t\tnode.link = current\n",
        "\t\t\tpre.link = node\n",
        "\t\t\treturn\n",
        "\n",
        "\tnode = Node()\t\t\t # 마지막 노드 삽입\n",
        "\tnode.data = insertData\n",
        "\tcurrent.link = node\n",
        "\tnode.link = head\n",
        "\n",
        "def findNode(findData) :\n",
        "\tglobal memory, head, current, pre\n",
        "\n",
        "\tcurrent = head\n",
        "\tif current.data == findData :\n",
        "\t\treturn current\n",
        "\twhile current.link != head :\n",
        "\t\tcurrent = current.link\n",
        "\t\tif current.data == findData :\n",
        "\t\t\treturn current\n",
        "\treturn Node()\t# 빈 노드 반환\n",
        "\n",
        "def deleteNode(deleteData) :\n",
        "\tglobal memory, head, current, pre\n",
        "\n",
        "\tif head.data == deleteData :         # 첫 번째 노드 삭제\n",
        "\t\tcurrent = head\n",
        "\t\thead = head.link\n",
        "\t\tdel(current)\n",
        "\t\treturn\n",
        "\n",
        "\tcurrent = head                          # 첫 번째  외 노드 삭제\n",
        "\twhile current.link != head :\n",
        "\t\tpre = current\n",
        "\t\tcurrent = current.link\n",
        "\t\tif current.data == deleteData :\n",
        "\t\t\tpre.link = current.link\n",
        "\t\t\tdel(current)\n",
        "\t\t\treturn"
      ]
    },
    {
      "cell_type": "code",
      "execution_count": null,
      "metadata": {},
      "outputs": [],
      "source": [
        "head, current, pre = None, None, None\n",
        "memory = []\n",
        "dataArray = [\"서울\", \"대전\", \"부산\"]\n",
        "\n",
        "node = Node()\t\t\t# 첫 번째 노드\n",
        "node.data = dataArray[0]\n",
        "head = node\n",
        "node.link = head\n",
        "memory.append(node)\n",
        "\n",
        "for data in dataArray[1:] :\t\t# 두 번째 노드부터\n",
        "    pre = node\n",
        "    node = Node()\n",
        "    node.data = data\n",
        "    pre.link = node\n",
        "    node.link = head\n",
        "    memory.append(node)\n",
        "\n",
        "printNodes(head)\n",
        "findNode('대전')\n",
        "insertNode('대전','천안')\n",
        "insertNode('서울','파주')\n",
        "printNodes(head)\n",
        "deleteNode('서울')\n"
      ]
    }
  ],
  "metadata": {
    "colab": {
      "authorship_tag": "ABX9TyNfYEYHL4wCNbBmxfR+rFfd",
      "collapsed_sections": [],
      "include_colab_link": true,
      "name": "python-13th-week.ipynb",
      "provenance": []
    },
    "kernelspec": {
      "display_name": "Python 3",
      "name": "python3"
    },
    "language_info": {
      "codemirror_mode": {
        "name": "ipython",
        "version": 3
      },
      "file_extension": ".py",
      "mimetype": "text/x-python",
      "name": "python",
      "nbconvert_exporter": "python",
      "pygments_lexer": "ipython3",
      "version": "3.9.4"
    }
  },
  "nbformat": 4,
  "nbformat_minor": 0
}
